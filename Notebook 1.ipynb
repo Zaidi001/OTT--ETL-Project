{
  "nbformat": 4,
  "nbformat_minor": 2,
  "metadata": {
    "kernelspec": {
      "name": "synapse_pyspark",
      "display_name": "Synapse PySpark"
    },
    "language_info": {
      "name": "python"
    },
    "description": null,
    "save_output": true,
    "synapse_widget": {
      "version": "0.1",
      "state": {
        "514d5d02-c91a-4306-ba1c-c50738e9ad09": {
          "type": "Synapse.DataFrame",
          "sync_state": {
            "table": {
              "rows": [
                {
                  "0": "I'm No Longer Here: A Discussion with Guillermoe del Toro and Alfonso Cuaron",
                  "1": "Aftershow / Interview",
                  "2": "November 3, 2020",
                  "3": "14",
                  "4": "7.0",
                  "5": "English",
                  "6": "711223",
                  "7": "23-02-2023",
                  "8": "Medium"
                },
                {
                  "0": "The Meyerowitz Stories (New and Selected)",
                  "1": "Comedy-drama",
                  "2": "October 13, 2017",
                  "3": "112",
                  "4": "6.9",
                  "5": "English",
                  "6": "48297",
                  "7": "23-02-2023",
                  "8": "Medium"
                },
                {
                  "0": "Kingdom of Us",
                  "1": "Documentary",
                  "2": "October 13, 2017",
                  "3": "109",
                  "4": "7.0",
                  "5": "English",
                  "6": "81301",
                  "7": "23-02-2023",
                  "8": "Medium"
                },
                {
                  "0": "The Highwaymen",
                  "1": "Crime drama",
                  "2": "March 29, 2019",
                  "3": "131",
                  "4": "6.9",
                  "5": "English",
                  "6": "54216",
                  "7": "23-02-2023",
                  "8": "Medium"
                },
                {
                  "0": "The Lonely Island Presents: The Unauthorized Bash Brothers Experience",
                  "1": "Comedy / Musical",
                  "2": "May 23, 2019",
                  "3": "30",
                  "4": "6.9",
                  "5": "English",
                  "6": "238789",
                  "7": "23-02-2023",
                  "8": "Medium"
                },
                {
                  "0": "Gaga: Five Foot Two",
                  "1": "Documentary",
                  "2": "September 22, 2017",
                  "3": "100",
                  "4": "7.0",
                  "5": "English",
                  "6": "382459",
                  "7": "23-02-2023",
                  "8": "Medium"
                },
                {
                  "0": "Feminists: What Were They Thinking?",
                  "1": "Documentary",
                  "2": "October 12, 2018",
                  "3": "86",
                  "4": "7.0",
                  "5": "English",
                  "6": "494819",
                  "7": "23-02-2023",
                  "8": "Medium"
                }
              ],
              "schema": [
                {
                  "key": "0",
                  "name": "Title",
                  "type": "string"
                },
                {
                  "key": "1",
                  "name": "Genre",
                  "type": "string"
                },
                {
                  "key": "2",
                  "name": "ReleaseDate",
                  "type": "string"
                },
                {
                  "key": "3",
                  "name": "Runtime",
                  "type": "int"
                },
                {
                  "key": "4",
                  "name": "IMDB Score",
                  "type": "double"
                },
                {
                  "key": "5",
                  "name": "Language",
                  "type": "string"
                },
                {
                  "key": "6",
                  "name": "Views",
                  "type": "int"
                },
                {
                  "key": "7",
                  "name": "AddedDate",
                  "type": "string"
                },
                {
                  "key": "8",
                  "name": "IMDB Category",
                  "type": "string"
                }
              ],
              "truncated": false
            },
            "isSummary": false,
            "language": "scala"
          },
          "persist_state": {
            "view": {
              "type": "details",
              "tableOptions": {},
              "chartOptions": {
                "chartType": "bar",
                "aggregationType": "sum",
                "categoryFieldKeys": [
                  "0"
                ],
                "seriesFieldKeys": [
                  "3"
                ],
                "isStacked": false
              }
            }
          }
        },
        "4bdafc11-9f7b-4511-b0fe-67a4e1a74078": {
          "type": "Synapse.DataFrame",
          "sync_state": {
            "table": {
              "rows": [
                {
                  "0": "I'm No Longer Here: A Discussion with Guillermoe del Toro and Alfonso Cuaron",
                  "1": "Aftershow / Interview",
                  "2": "November 3, 2020",
                  "3": "14",
                  "4": "7.0",
                  "5": "English",
                  "6": "711223",
                  "7": "23-02-2023",
                  "8": "Medium",
                  "9": "0.23"
                },
                {
                  "0": "The Meyerowitz Stories (New and Selected)",
                  "1": "Comedy-drama",
                  "2": "October 13, 2017",
                  "3": "112",
                  "4": "6.9",
                  "5": "English",
                  "6": "48297",
                  "7": "23-02-2023",
                  "8": "Medium",
                  "9": "1.87"
                },
                {
                  "0": "Kingdom of Us",
                  "1": "Documentary",
                  "2": "October 13, 2017",
                  "3": "109",
                  "4": "7.0",
                  "5": "English",
                  "6": "81301",
                  "7": "23-02-2023",
                  "8": "Medium",
                  "9": "1.82"
                },
                {
                  "0": "The Highwaymen",
                  "1": "Crime drama",
                  "2": "March 29, 2019",
                  "3": "131",
                  "4": "6.9",
                  "5": "English",
                  "6": "54216",
                  "7": "23-02-2023",
                  "8": "Medium",
                  "9": "2.18"
                },
                {
                  "0": "The Lonely Island Presents: The Unauthorized Bash Brothers Experience",
                  "1": "Comedy / Musical",
                  "2": "May 23, 2019",
                  "3": "30",
                  "4": "6.9",
                  "5": "English",
                  "6": "238789",
                  "7": "23-02-2023",
                  "8": "Medium",
                  "9": "0.5"
                },
                {
                  "0": "Gaga: Five Foot Two",
                  "1": "Documentary",
                  "2": "September 22, 2017",
                  "3": "100",
                  "4": "7.0",
                  "5": "English",
                  "6": "382459",
                  "7": "23-02-2023",
                  "8": "Medium",
                  "9": "1.67"
                },
                {
                  "0": "Feminists: What Were They Thinking?",
                  "1": "Documentary",
                  "2": "October 12, 2018",
                  "3": "86",
                  "4": "7.0",
                  "5": "English",
                  "6": "494819",
                  "7": "23-02-2023",
                  "8": "Medium",
                  "9": "1.43"
                }
              ],
              "schema": [
                {
                  "key": "0",
                  "name": "Title",
                  "type": "string"
                },
                {
                  "key": "1",
                  "name": "Genre",
                  "type": "string"
                },
                {
                  "key": "2",
                  "name": "ReleaseDate",
                  "type": "string"
                },
                {
                  "key": "3",
                  "name": "Runtime",
                  "type": "int"
                },
                {
                  "key": "4",
                  "name": "IMDB Score",
                  "type": "double"
                },
                {
                  "key": "5",
                  "name": "Language",
                  "type": "string"
                },
                {
                  "key": "6",
                  "name": "Views",
                  "type": "int"
                },
                {
                  "key": "7",
                  "name": "AddedDate",
                  "type": "string"
                },
                {
                  "key": "8",
                  "name": "IMDB Category",
                  "type": "string"
                },
                {
                  "key": "9",
                  "name": "RuntimeinHours",
                  "type": "double"
                }
              ],
              "truncated": false
            },
            "isSummary": false,
            "language": "scala"
          },
          "persist_state": {
            "view": {
              "type": "details",
              "tableOptions": {},
              "chartOptions": {
                "chartType": "bar",
                "aggregationType": "sum",
                "categoryFieldKeys": [
                  "0"
                ],
                "seriesFieldKeys": [
                  "3"
                ],
                "isStacked": false
              }
            }
          }
        }
      }
    }
  },
  "cells": [
    {
      "cell_type": "code",
      "execution_count": 68,
      "outputs": [
        {
          "output_type": "display_data",
          "data": {
            "application/vnd.livy.statement-meta+json": {
              "spark_pool": "SparkPool",
              "session_id": "5",
              "statement_id": 8,
              "state": "finished",
              "livy_statement_state": "available",
              "queued_time": "2023-10-25T06:06:27.5005161Z",
              "session_start_time": null,
              "execution_start_time": "2023-10-25T06:06:27.6358516Z",
              "execution_finish_time": "2023-10-25T06:06:28.2456623Z",
              "spark_jobs": null,
              "parent_msg_id": "aac41a11-e935-4e7d-bf0f-2ee69ea616d0"
            },
            "text/plain": "StatementMeta(SparkPool, 5, 8, Finished, Available)"
          },
          "metadata": {}
        }
      ],
      "metadata": {
        "jupyter": {
          "source_hidden": false,
          "outputs_hidden": false
        },
        "nteract": {
          "transient": {
            "deleting": false
          }
        }
      },
      "source": [
        "dateformat = \"%Y-%m-%d\"\r\n",
        "\r\n",
        "import datetime\r\n",
        "\r\n",
        "ts = spark.sql(\"select current_timestamp() as ctime\").collect()[0][\"ctime\"]\r\n",
        "\r\n",
        "todaydate = ts.strftime(dateformat)"
      ]
    },
    {
      "cell_type": "code",
      "execution_count": 69,
      "outputs": [
        {
          "output_type": "display_data",
          "data": {
            "application/vnd.livy.statement-meta+json": {
              "spark_pool": "SparkPool",
              "session_id": "5",
              "statement_id": 9,
              "state": "finished",
              "livy_statement_state": "available",
              "queued_time": "2023-10-25T06:06:27.5942553Z",
              "session_start_time": null,
              "execution_start_time": "2023-10-25T06:06:28.3988354Z",
              "execution_finish_time": "2023-10-25T06:06:28.5829015Z",
              "spark_jobs": null,
              "parent_msg_id": "66ffe700-661b-4150-9730-72981dfb4923"
            },
            "text/plain": "StatementMeta(SparkPool, 5, 9, Finished, Available)"
          },
          "metadata": {}
        }
      ],
      "metadata": {},
      "source": [
        "from pyspark.sql.functions import *\r\n",
        "from notebookutils import mssparkutils"
      ]
    },
    {
      "cell_type": "code",
      "execution_count": 70,
      "outputs": [
        {
          "output_type": "display_data",
          "data": {
            "application/vnd.livy.statement-meta+json": {
              "spark_pool": "SparkPool",
              "session_id": "5",
              "statement_id": 10,
              "state": "finished",
              "livy_statement_state": "available",
              "queued_time": "2023-10-25T06:06:27.7405154Z",
              "session_start_time": null,
              "execution_start_time": "2023-10-25T06:06:28.734216Z",
              "execution_finish_time": "2023-10-25T06:06:28.9066647Z",
              "spark_jobs": null,
              "parent_msg_id": "9b9bd08b-d5cd-4267-9bbc-b267194f8f1d"
            },
            "text/plain": "StatementMeta(SparkPool, 5, 10, Finished, Available)"
          },
          "metadata": {}
        }
      ],
      "metadata": {
        "jupyter": {
          "source_hidden": false,
          "outputs_hidden": false
        },
        "nteract": {
          "transient": {
            "deleting": false
          }
        }
      },
      "source": [
        "sourceaccountname = \"ottadls011\"\r\n",
        "sourcecontainer = \"raw\"\r\n",
        "sourcelinkedService = \"LS_ADLS_Transform\"\r\n",
        "sourceFile_location = \"ingest/\"+todaydate"
      ]
    },
    {
      "cell_type": "code",
      "execution_count": 71,
      "outputs": [
        {
          "output_type": "display_data",
          "data": {
            "application/vnd.livy.statement-meta+json": {
              "spark_pool": "SparkPool",
              "session_id": "5",
              "statement_id": 11,
              "state": "finished",
              "livy_statement_state": "available",
              "queued_time": "2023-10-25T06:06:28.1569602Z",
              "session_start_time": null,
              "execution_start_time": "2023-10-25T06:06:29.0515324Z",
              "execution_finish_time": "2023-10-25T06:06:29.2180348Z",
              "spark_jobs": null,
              "parent_msg_id": "5ec45d74-be80-407b-8d87-4e1e89c7fdb2"
            },
            "text/plain": "StatementMeta(SparkPool, 5, 11, Finished, Available)"
          },
          "metadata": {}
        },
        {
          "output_type": "stream",
          "name": "stdout",
          "text": [
            "ingest/2023-10-25\n"
          ]
        }
      ],
      "metadata": {
        "jupyter": {
          "source_hidden": false,
          "outputs_hidden": false
        },
        "nteract": {
          "transient": {
            "deleting": false
          }
        }
      },
      "source": [
        "print(sourceFile_location)"
      ]
    },
    {
      "cell_type": "code",
      "execution_count": 72,
      "outputs": [
        {
          "output_type": "display_data",
          "data": {
            "application/vnd.livy.statement-meta+json": {
              "spark_pool": "SparkPool",
              "session_id": "5",
              "statement_id": 12,
              "state": "finished",
              "livy_statement_state": "available",
              "queued_time": "2023-10-25T06:06:28.3125147Z",
              "session_start_time": null,
              "execution_start_time": "2023-10-25T06:06:29.3599682Z",
              "execution_finish_time": "2023-10-25T06:06:29.5481138Z",
              "spark_jobs": null,
              "parent_msg_id": "817060d1-1059-4311-a3ac-954f385e0191"
            },
            "text/plain": "StatementMeta(SparkPool, 5, 12, Finished, Available)"
          },
          "metadata": {}
        },
        {
          "output_type": "stream",
          "name": "stdout",
          "text": [
            "abfss://raw@ottadls011.dfs.core.windows.net/\n"
          ]
        }
      ],
      "metadata": {
        "jupyter": {
          "source_hidden": false,
          "outputs_hidden": false
        },
        "nteract": {
          "transient": {
            "deleting": false
          }
        }
      },
      "source": [
        "spark.conf.set(f\"spark.storage.synapse.linkedServiceName\", \"LS_ADLS_Transform\")\r\n",
        "spark.conf.set(f\"fs.azure.account.oauth.provider.type\", \"com.microsoft.azure.synapse.tokenlibrary.LinkedServiceBasedTokenProvider\")\r\n",
        "\r\n",
        "path = f'abfss://{sourcecontainer}@{sourceaccountname}.dfs.core.windows.net/'\r\n",
        "\r\n",
        "print(path)"
      ]
    },
    {
      "cell_type": "code",
      "execution_count": 73,
      "outputs": [
        {
          "output_type": "display_data",
          "data": {
            "application/vnd.livy.statement-meta+json": {
              "spark_pool": "SparkPool",
              "session_id": "5",
              "statement_id": 13,
              "state": "finished",
              "livy_statement_state": "available",
              "queued_time": "2023-10-25T06:06:28.4916866Z",
              "session_start_time": null,
              "execution_start_time": "2023-10-25T06:06:29.6901694Z",
              "execution_finish_time": "2023-10-25T06:06:29.8549585Z",
              "spark_jobs": null,
              "parent_msg_id": "67e44231-f2c2-4d52-a1ac-2027e83986d8"
            },
            "text/plain": "StatementMeta(SparkPool, 5, 13, Finished, Available)"
          },
          "metadata": {}
        },
        {
          "output_type": "stream",
          "name": "stdout",
          "text": [
            "abfss://raw@ottadls011.dfs.core.windows.net/ingest/2023-10-25\n"
          ]
        }
      ],
      "metadata": {
        "jupyter": {
          "source_hidden": false,
          "outputs_hidden": false
        },
        "nteract": {
          "transient": {
            "deleting": false
          }
        }
      },
      "source": [
        "file = f'abfss://{sourcecontainer}@{sourceaccountname}.dfs.core.windows.net/{sourceFile_location}'\r\n",
        "print(file)"
      ]
    },
    {
      "cell_type": "code",
      "execution_count": 74,
      "outputs": [
        {
          "output_type": "display_data",
          "data": {
            "application/vnd.livy.statement-meta+json": {
              "spark_pool": "SparkPool",
              "session_id": "5",
              "statement_id": 14,
              "state": "finished",
              "livy_statement_state": "available",
              "queued_time": "2023-10-25T06:06:28.8378833Z",
              "session_start_time": null,
              "execution_start_time": "2023-10-25T06:06:29.9970416Z",
              "execution_finish_time": "2023-10-25T06:06:47.1333217Z",
              "spark_jobs": null,
              "parent_msg_id": "8f7d6eb5-ecf9-4947-8409-2d4ac623c183"
            },
            "text/plain": "StatementMeta(SparkPool, 5, 14, Finished, Available)"
          },
          "metadata": {}
        }
      ],
      "metadata": {
        "jupyter": {
          "source_hidden": false,
          "outputs_hidden": false
        },
        "nteract": {
          "transient": {
            "deleting": false
          }
        }
      },
      "source": [
        "source_df = spark.read.format('csv').option(\"header\",\"true\").option(\"inferSchema\",\"true\").load(file)"
      ]
    },
    {
      "cell_type": "code",
      "execution_count": 75,
      "outputs": [
        {
          "output_type": "display_data",
          "data": {
            "application/vnd.livy.statement-meta+json": {
              "spark_pool": "SparkPool",
              "session_id": "5",
              "statement_id": 15,
              "state": "finished",
              "livy_statement_state": "available",
              "queued_time": "2023-10-25T06:06:29.245718Z",
              "session_start_time": null,
              "execution_start_time": "2023-10-25T06:06:47.288879Z",
              "execution_finish_time": "2023-10-25T06:07:54.6689708Z",
              "spark_jobs": null,
              "parent_msg_id": "c4c849e7-1676-427a-b414-d4b3a3c17668"
            },
            "text/plain": "StatementMeta(SparkPool, 5, 15, Finished, Available)"
          },
          "metadata": {}
        },
        {
          "output_type": "stream",
          "name": "stdout",
          "text": [
            "+--------------------+--------------------+------------------+-------+----------+--------+------+----------+\n|               Title|               Genre|       ReleaseDate|Runtime|IMDB Score|Language| Views| AddedDate|\n+--------------------+--------------------+------------------+-------+----------+--------+------+----------+\n|      The Highwaymen|         Crime drama|    March 29, 2019|    131|       6.9| English| 54216|23-02-2023|\n|The Lonely Island...|    Comedy / Musical|      May 23, 2019|     30|       6.9| English|238789|23-02-2023|\n|The Meyerowitz St...|        Comedy-drama|  October 13, 2017|    112|       6.9| English| 48297|23-02-2023|\n|Feminists: What W...|         Documentary|  October 12, 2018|     86|       7.0| English|494819|23-02-2023|\n| Gaga: Five Foot Two|         Documentary|September 22, 2017|    100|       7.0| English|382459|23-02-2023|\n|I'm No Longer Her...|Aftershow / Inter...|  November 3, 2020|     14|       7.0| English|711223|23-02-2023|\n|       Kingdom of Us|         Documentary|  October 13, 2017|    109|       7.0| English| 81301|23-02-2023|\n+--------------------+--------------------+------------------+-------+----------+--------+------+----------+\n\n"
          ]
        }
      ],
      "metadata": {
        "jupyter": {
          "source_hidden": false,
          "outputs_hidden": false
        },
        "nteract": {
          "transient": {
            "deleting": false
          }
        }
      },
      "source": [
        "source_df.show()"
      ]
    },
    {
      "cell_type": "code",
      "execution_count": 76,
      "outputs": [
        {
          "output_type": "display_data",
          "data": {
            "application/vnd.livy.statement-meta+json": {
              "spark_pool": "SparkPool",
              "session_id": "5",
              "statement_id": 16,
              "state": "finished",
              "livy_statement_state": "available",
              "queued_time": "2023-10-25T06:06:29.6451145Z",
              "session_start_time": null,
              "execution_start_time": "2023-10-25T06:07:54.8235778Z",
              "execution_finish_time": "2023-10-25T06:08:55.3762472Z",
              "spark_jobs": null,
              "parent_msg_id": "99e8ce7a-824b-4cf4-969a-94107b25bdda"
            },
            "text/plain": "StatementMeta(SparkPool, 5, 16, Finished, Available)"
          },
          "metadata": {}
        },
        {
          "output_type": "stream",
          "name": "stdout",
          "text": [
            "+-----+-----+-----------+-------+----------+--------+-----+---------+-----+\n|Title|Genre|ReleaseDate|Runtime|IMDB Score|Language|Views|AddedDate|count|\n+-----+-----+-----------+-------+----------+--------+-----+---------+-----+\n+-----+-----+-----------+-------+----------+--------+-----+---------+-----+\n\n"
          ]
        }
      ],
      "metadata": {
        "jupyter": {
          "source_hidden": false,
          "outputs_hidden": false
        },
        "nteract": {
          "transient": {
            "deleting": false
          }
        }
      },
      "source": [
        "#Identifying duplicates\r\n",
        "\r\n",
        "source_df.groupBy(source_df.columns).count().filter(col(\"count\")>1).show()"
      ]
    },
    {
      "cell_type": "code",
      "execution_count": 77,
      "outputs": [
        {
          "output_type": "display_data",
          "data": {
            "application/vnd.livy.statement-meta+json": {
              "spark_pool": "SparkPool",
              "session_id": "5",
              "statement_id": 17,
              "state": "finished",
              "livy_statement_state": "available",
              "queued_time": "2023-10-25T06:06:30.1010225Z",
              "session_start_time": null,
              "execution_start_time": "2023-10-25T06:08:55.5411512Z",
              "execution_finish_time": "2023-10-25T06:08:55.7491602Z",
              "spark_jobs": null,
              "parent_msg_id": "7deaa216-03ec-4527-8afb-d47cda23dd50"
            },
            "text/plain": "StatementMeta(SparkPool, 5, 17, Finished, Available)"
          },
          "metadata": {}
        }
      ],
      "metadata": {
        "jupyter": {
          "source_hidden": false,
          "outputs_hidden": false
        },
        "nteract": {
          "transient": {
            "deleting": false
          }
        }
      },
      "source": [
        "df_nodups = source_df"
      ]
    },
    {
      "cell_type": "code",
      "execution_count": 78,
      "outputs": [
        {
          "output_type": "display_data",
          "data": {
            "application/vnd.livy.statement-meta+json": {
              "spark_pool": "SparkPool",
              "session_id": "5",
              "statement_id": 18,
              "state": "finished",
              "livy_statement_state": "available",
              "queued_time": "2023-10-25T06:06:30.6295451Z",
              "session_start_time": null,
              "execution_start_time": "2023-10-25T06:08:55.921235Z",
              "execution_finish_time": "2023-10-25T06:08:56.1038784Z",
              "spark_jobs": null,
              "parent_msg_id": "87c04c0b-f684-4656-85e6-9bf13e71a936"
            },
            "text/plain": "StatementMeta(SparkPool, 5, 18, Finished, Available)"
          },
          "metadata": {}
        }
      ],
      "metadata": {
        "jupyter": {
          "source_hidden": false,
          "outputs_hidden": false
        },
        "nteract": {
          "transient": {
            "deleting": false
          }
        }
      },
      "source": [
        "df_nodups = df_nodups.drop_duplicates()"
      ]
    },
    {
      "cell_type": "code",
      "execution_count": 79,
      "outputs": [
        {
          "output_type": "display_data",
          "data": {
            "application/vnd.livy.statement-meta+json": {
              "spark_pool": "SparkPool",
              "session_id": "5",
              "statement_id": 19,
              "state": "finished",
              "livy_statement_state": "available",
              "queued_time": "2023-10-25T06:06:31.274922Z",
              "session_start_time": null,
              "execution_start_time": "2023-10-25T06:08:56.2738852Z",
              "execution_finish_time": "2023-10-25T06:09:54.9992299Z",
              "spark_jobs": null,
              "parent_msg_id": "792373d1-61c8-418b-88d3-9f88bc4cd363"
            },
            "text/plain": "StatementMeta(SparkPool, 5, 19, Finished, Available)"
          },
          "metadata": {}
        },
        {
          "output_type": "stream",
          "name": "stdout",
          "text": [
            "+-----+-----+-----------+-------+----------+--------+-----+---------+-----+\n|Title|Genre|ReleaseDate|Runtime|IMDB Score|Language|Views|AddedDate|count|\n+-----+-----+-----------+-------+----------+--------+-----+---------+-----+\n+-----+-----+-----------+-------+----------+--------+-----+---------+-----+\n\n"
          ]
        }
      ],
      "metadata": {
        "jupyter": {
          "source_hidden": false,
          "outputs_hidden": false
        },
        "nteract": {
          "transient": {
            "deleting": false
          }
        }
      },
      "source": [
        "#Identifying duplicates\r\n",
        "\r\n",
        "df_nodups.groupBy(source_df.columns).count().filter(col(\"count\")>1).show()"
      ]
    },
    {
      "cell_type": "code",
      "execution_count": 80,
      "outputs": [
        {
          "output_type": "display_data",
          "data": {
            "application/vnd.livy.statement-meta+json": {
              "spark_pool": "SparkPool",
              "session_id": "5",
              "statement_id": 20,
              "state": "finished",
              "livy_statement_state": "available",
              "queued_time": "2023-10-25T06:06:31.3980232Z",
              "session_start_time": null,
              "execution_start_time": "2023-10-25T06:09:55.1492851Z",
              "execution_finish_time": "2023-10-25T06:10:53.3510356Z",
              "spark_jobs": null,
              "parent_msg_id": "84bc4669-8043-437d-9d89-50e679cc79ee"
            },
            "text/plain": "StatementMeta(SparkPool, 5, 20, Finished, Available)"
          },
          "metadata": {}
        },
        {
          "output_type": "stream",
          "name": "stdout",
          "text": [
            "+-----+-----+-----------+-------+----------+--------+-----+---------+\n|Title|Genre|ReleaseDate|Runtime|IMDB Score|Language|Views|AddedDate|\n+-----+-----+-----------+-------+----------+--------+-----+---------+\n+-----+-----+-----------+-------+----------+--------+-----+---------+\n\n"
          ]
        }
      ],
      "metadata": {
        "jupyter": {
          "source_hidden": false,
          "outputs_hidden": false
        },
        "nteract": {
          "transient": {
            "deleting": false
          }
        }
      },
      "source": [
        "# checking for NULL value Error\r\n",
        "\r\n",
        "df_nodups.filter(df_nodups.Title.isNull()).show()"
      ]
    },
    {
      "cell_type": "code",
      "execution_count": 81,
      "outputs": [
        {
          "output_type": "display_data",
          "data": {
            "application/vnd.livy.statement-meta+json": {
              "spark_pool": "SparkPool",
              "session_id": "5",
              "statement_id": 21,
              "state": "finished",
              "livy_statement_state": "available",
              "queued_time": "2023-10-25T06:06:31.5120977Z",
              "session_start_time": null,
              "execution_start_time": "2023-10-25T06:10:53.5170536Z",
              "execution_finish_time": "2023-10-25T06:11:51.943004Z",
              "spark_jobs": null,
              "parent_msg_id": "c99e2cda-206e-42a4-8dcc-3406e6410d62"
            },
            "text/plain": "StatementMeta(SparkPool, 5, 21, Finished, Available)"
          },
          "metadata": {}
        },
        {
          "output_type": "stream",
          "name": "stdout",
          "text": [
            "+-----+-----+-----------+-------+----------+--------+-----+---------+\n|Title|Genre|ReleaseDate|Runtime|IMDB Score|Language|Views|AddedDate|\n+-----+-----+-----------+-------+----------+--------+-----+---------+\n|    0|    0|          0|      0|         0|       0|    0|        0|\n+-----+-----+-----------+-------+----------+--------+-----+---------+\n\n"
          ]
        }
      ],
      "metadata": {
        "jupyter": {
          "source_hidden": false,
          "outputs_hidden": false
        },
        "nteract": {
          "transient": {
            "deleting": false
          }
        }
      },
      "source": [
        "df_nodups.select(\\\r\n",
        "    [count(\\\r\n",
        "        when(isnan(c)  | col(c).isNull(), c)\\\r\n",
        "          ).alias(c) for c in df_nodups.columns]\r\n",
        "        ).show()"
      ]
    },
    {
      "cell_type": "code",
      "execution_count": 82,
      "outputs": [
        {
          "output_type": "display_data",
          "data": {
            "application/vnd.livy.statement-meta+json": {
              "spark_pool": "SparkPool",
              "session_id": "5",
              "statement_id": 22,
              "state": "finished",
              "livy_statement_state": "available",
              "queued_time": "2023-10-25T06:06:31.6057873Z",
              "session_start_time": null,
              "execution_start_time": "2023-10-25T06:11:52.0948919Z",
              "execution_finish_time": "2023-10-25T06:11:52.2550074Z",
              "spark_jobs": null,
              "parent_msg_id": "582daf1e-febb-426e-9f6f-f24b01587252"
            },
            "text/plain": "StatementMeta(SparkPool, 5, 22, Finished, Available)"
          },
          "metadata": {}
        }
      ],
      "metadata": {
        "jupyter": {
          "source_hidden": false,
          "outputs_hidden": false
        },
        "nteract": {
          "transient": {
            "deleting": false
          }
        }
      },
      "source": [
        "# drop only if entire row is NULL\r\n",
        "\r\n",
        "df_nodups = df_nodups.na.drop(how=\"all\")"
      ]
    },
    {
      "cell_type": "code",
      "execution_count": 83,
      "outputs": [
        {
          "output_type": "display_data",
          "data": {
            "application/vnd.livy.statement-meta+json": {
              "spark_pool": "SparkPool",
              "session_id": "5",
              "statement_id": 23,
              "state": "finished",
              "livy_statement_state": "available",
              "queued_time": "2023-10-25T06:06:31.7305302Z",
              "session_start_time": null,
              "execution_start_time": "2023-10-25T06:11:52.3998837Z",
              "execution_finish_time": "2023-10-25T06:11:52.5627049Z",
              "spark_jobs": null,
              "parent_msg_id": "58749a76-4010-4cb2-881b-9c3079c75597"
            },
            "text/plain": "StatementMeta(SparkPool, 5, 23, Finished, Available)"
          },
          "metadata": {}
        }
      ],
      "metadata": {
        "jupyter": {
          "source_hidden": false,
          "outputs_hidden": false
        },
        "nteract": {
          "transient": {
            "deleting": false
          }
        }
      },
      "source": [
        "# -- Replacing Null ValuesView\r\n",
        "\r\n",
        "df_nonnulls = df_nodups.na.fill(value=\"Unknown\")"
      ]
    },
    {
      "cell_type": "code",
      "execution_count": 84,
      "outputs": [
        {
          "output_type": "display_data",
          "data": {
            "application/vnd.livy.statement-meta+json": {
              "spark_pool": "SparkPool",
              "session_id": "5",
              "statement_id": 24,
              "state": "finished",
              "livy_statement_state": "available",
              "queued_time": "2023-10-25T06:06:31.8542658Z",
              "session_start_time": null,
              "execution_start_time": "2023-10-25T06:11:52.7101363Z",
              "execution_finish_time": "2023-10-25T06:11:52.8822677Z",
              "spark_jobs": null,
              "parent_msg_id": "91c56fa9-69b7-4931-9cad-32f5985b0663"
            },
            "text/plain": "StatementMeta(SparkPool, 5, 24, Finished, Available)"
          },
          "metadata": {}
        },
        {
          "output_type": "stream",
          "name": "stdout",
          "text": [
            "+-----+-----+-----------+-------+----------+--------+-----+---------+\n|Title|Genre|ReleaseDate|Runtime|IMDB Score|Language|Views|AddedDate|\n+-----+-----+-----------+-------+----------+--------+-----+---------+\n+-----+-----+-----------+-------+----------+--------+-----+---------+\n\n"
          ]
        }
      ],
      "metadata": {
        "jupyter": {
          "source_hidden": false,
          "outputs_hidden": false
        },
        "nteract": {
          "transient": {
            "deleting": false
          }
        }
      },
      "source": [
        "df_nonnulls.filter(col('Language').isNull()).show()"
      ]
    },
    {
      "cell_type": "code",
      "execution_count": 85,
      "outputs": [
        {
          "output_type": "display_data",
          "data": {
            "application/vnd.livy.statement-meta+json": {
              "spark_pool": "SparkPool",
              "session_id": "5",
              "statement_id": 25,
              "state": "finished",
              "livy_statement_state": "available",
              "queued_time": "2023-10-25T06:06:31.9612414Z",
              "session_start_time": null,
              "execution_start_time": "2023-10-25T06:11:53.0536749Z",
              "execution_finish_time": "2023-10-25T06:11:53.2312817Z",
              "spark_jobs": null,
              "parent_msg_id": "8017d443-0f4e-45d9-b439-c60715ee3a3e"
            },
            "text/plain": "StatementMeta(SparkPool, 5, 25, Finished, Available)"
          },
          "metadata": {}
        },
        {
          "output_type": "stream",
          "name": "stdout",
          "text": [
            "+-----+-----+-----------+-------+----------+--------+-----+---------+\n|Title|Genre|ReleaseDate|Runtime|IMDB Score|Language|Views|AddedDate|\n+-----+-----+-----------+-------+----------+--------+-----+---------+\n+-----+-----+-----------+-------+----------+--------+-----+---------+\n\n"
          ]
        }
      ],
      "metadata": {
        "jupyter": {
          "source_hidden": false,
          "outputs_hidden": false
        },
        "nteract": {
          "transient": {
            "deleting": false
          }
        }
      },
      "source": [
        "df_nonnulls.filter(col('Genre').isNull()).show()"
      ]
    },
    {
      "cell_type": "code",
      "execution_count": 86,
      "outputs": [
        {
          "output_type": "display_data",
          "data": {
            "application/vnd.livy.statement-meta+json": {
              "spark_pool": "SparkPool",
              "session_id": "5",
              "statement_id": 26,
              "state": "finished",
              "livy_statement_state": "available",
              "queued_time": "2023-10-25T06:06:32.1336154Z",
              "session_start_time": null,
              "execution_start_time": "2023-10-25T06:11:53.3869445Z",
              "execution_finish_time": "2023-10-25T06:12:49.7955817Z",
              "spark_jobs": null,
              "parent_msg_id": "2a8268c4-1eb7-4811-8011-2aaa5e605884"
            },
            "text/plain": "StatementMeta(SparkPool, 5, 26, Finished, Available)"
          },
          "metadata": {}
        },
        {
          "output_type": "stream",
          "name": "stdout",
          "text": [
            "+-----+-----+-----------+-------+----------+--------+-----+---------+\n|Title|Genre|ReleaseDate|Runtime|IMDB Score|Language|Views|AddedDate|\n+-----+-----+-----------+-------+----------+--------+-----+---------+\n+-----+-----+-----------+-------+----------+--------+-----+---------+\n\n"
          ]
        }
      ],
      "metadata": {
        "jupyter": {
          "source_hidden": false,
          "outputs_hidden": false
        },
        "nteract": {
          "transient": {
            "deleting": false
          }
        }
      },
      "source": [
        "df_nonnulls.filter(col('Language') == \"Unknown\").show()"
      ]
    },
    {
      "cell_type": "code",
      "execution_count": 87,
      "outputs": [
        {
          "output_type": "display_data",
          "data": {
            "application/vnd.livy.statement-meta+json": {
              "spark_pool": "SparkPool",
              "session_id": "5",
              "statement_id": 27,
              "state": "finished",
              "livy_statement_state": "available",
              "queued_time": "2023-10-25T06:06:32.2569905Z",
              "session_start_time": null,
              "execution_start_time": "2023-10-25T06:12:49.9630876Z",
              "execution_finish_time": "2023-10-25T06:12:50.1313361Z",
              "spark_jobs": null,
              "parent_msg_id": "084c4f88-0f7e-4f76-a9df-352b87d7a5ec"
            },
            "text/plain": "StatementMeta(SparkPool, 5, 27, Finished, Available)"
          },
          "metadata": {}
        }
      ],
      "metadata": {
        "jupyter": {
          "source_hidden": false,
          "outputs_hidden": false
        },
        "nteract": {
          "transient": {
            "deleting": false
          }
        }
      },
      "source": [
        "\r\n",
        "df_nonnulls = df_nonnulls.withColumn(\"IMDB Category\",\r\n",
        "                       when(col(\"IMDB Score\").between(0.1, 2.9), \"Very Low\")\r\n",
        "                       .when(col(\"IMDB Score\").between(3, 4.9), \"Low\")\r\n",
        "                       .when(col(\"IMDB Score\").between(5, 7.9), \"Medium\")\r\n",
        "                       .otherwise(\"High\"))\r\n",
        ""
      ]
    },
    {
      "cell_type": "code",
      "execution_count": 88,
      "outputs": [
        {
          "output_type": "display_data",
          "data": {
            "application/vnd.livy.statement-meta+json": {
              "spark_pool": "SparkPool",
              "session_id": "5",
              "statement_id": 28,
              "state": "finished",
              "livy_statement_state": "available",
              "queued_time": "2023-10-25T06:06:32.4000826Z",
              "session_start_time": null,
              "execution_start_time": "2023-10-25T06:12:50.2820962Z",
              "execution_finish_time": "2023-10-25T06:13:47.5669087Z",
              "spark_jobs": null,
              "parent_msg_id": "789e4399-9a85-4342-9a91-0f9d4b0ac5d9"
            },
            "text/plain": "StatementMeta(SparkPool, 5, 28, Finished, Available)"
          },
          "metadata": {}
        },
        {
          "output_type": "display_data",
          "data": {
            "application/vnd.synapse.widget-view+json": {
              "widget_id": "514d5d02-c91a-4306-ba1c-c50738e9ad09",
              "widget_type": "Synapse.DataFrame"
            },
            "text/plain": "SynapseWidget(Synapse.DataFrame, 514d5d02-c91a-4306-ba1c-c50738e9ad09)"
          },
          "metadata": {}
        }
      ],
      "metadata": {
        "jupyter": {
          "source_hidden": false,
          "outputs_hidden": false
        },
        "nteract": {
          "transient": {
            "deleting": false
          }
        },
        "collapsed": false
      },
      "source": [
        "display(df_nonnulls)"
      ]
    },
    {
      "cell_type": "code",
      "execution_count": 89,
      "outputs": [
        {
          "output_type": "display_data",
          "data": {
            "application/vnd.livy.statement-meta+json": {
              "spark_pool": "SparkPool",
              "session_id": "5",
              "statement_id": 29,
              "state": "finished",
              "livy_statement_state": "available",
              "queued_time": "2023-10-25T06:06:32.5652171Z",
              "session_start_time": null,
              "execution_start_time": "2023-10-25T06:13:47.7275814Z",
              "execution_finish_time": "2023-10-25T06:13:47.9605056Z",
              "spark_jobs": null,
              "parent_msg_id": "42f9e571-9414-4537-b232-11a15052f613"
            },
            "text/plain": "StatementMeta(SparkPool, 5, 29, Finished, Available)"
          },
          "metadata": {}
        }
      ],
      "metadata": {
        "jupyter": {
          "source_hidden": false,
          "outputs_hidden": false
        },
        "nteract": {
          "transient": {
            "deleting": false
          }
        }
      },
      "source": [
        "# New Coulumn runtime in hours\r\n",
        "\r\n",
        "df = df_nonnulls.withColumn(\"RuntimeinHours\",\r\n",
        "                        round(df_nonnulls.Runtime/60,2))"
      ]
    },
    {
      "cell_type": "code",
      "execution_count": 90,
      "outputs": [
        {
          "output_type": "display_data",
          "data": {
            "application/vnd.livy.statement-meta+json": {
              "spark_pool": "SparkPool",
              "session_id": "5",
              "statement_id": 30,
              "state": "finished",
              "livy_statement_state": "available",
              "queued_time": "2023-10-25T06:06:32.7277659Z",
              "session_start_time": null,
              "execution_start_time": "2023-10-25T06:13:48.1134996Z",
              "execution_finish_time": "2023-10-25T06:14:44.9988812Z",
              "spark_jobs": null,
              "parent_msg_id": "f0fd67d2-5701-400d-85bc-82bcda90cfd0"
            },
            "text/plain": "StatementMeta(SparkPool, 5, 30, Finished, Available)"
          },
          "metadata": {}
        },
        {
          "output_type": "display_data",
          "data": {
            "application/vnd.synapse.widget-view+json": {
              "widget_id": "4bdafc11-9f7b-4511-b0fe-67a4e1a74078",
              "widget_type": "Synapse.DataFrame"
            },
            "text/plain": "SynapseWidget(Synapse.DataFrame, 4bdafc11-9f7b-4511-b0fe-67a4e1a74078)"
          },
          "metadata": {}
        }
      ],
      "metadata": {
        "jupyter": {
          "source_hidden": false,
          "outputs_hidden": false
        },
        "nteract": {
          "transient": {
            "deleting": false
          }
        },
        "collapsed": false
      },
      "source": [
        "display(df)"
      ]
    },
    {
      "cell_type": "code",
      "execution_count": 91,
      "outputs": [
        {
          "output_type": "display_data",
          "data": {
            "application/vnd.livy.statement-meta+json": {
              "spark_pool": "SparkPool",
              "session_id": "5",
              "statement_id": 31,
              "state": "finished",
              "livy_statement_state": "available",
              "queued_time": "2023-10-25T06:06:32.8453808Z",
              "session_start_time": null,
              "execution_start_time": "2023-10-25T06:14:45.1532712Z",
              "execution_finish_time": "2023-10-25T06:14:45.3185933Z",
              "spark_jobs": null,
              "parent_msg_id": "f15a3f07-674b-4edf-8190-2b6f304ccbe1"
            },
            "text/plain": "StatementMeta(SparkPool, 5, 31, Finished, Available)"
          },
          "metadata": {}
        }
      ],
      "metadata": {
        "jupyter": {
          "source_hidden": false,
          "outputs_hidden": false
        },
        "nteract": {
          "transient": {
            "deleting": false
          }
        }
      },
      "source": [
        "df = df.drop(\"Runtime\")"
      ]
    },
    {
      "cell_type": "code",
      "execution_count": null,
      "outputs": [
        {
          "output_type": "display_data",
          "data": {
            "application/vnd.livy.statement-meta+json": {
              "spark_pool": null,
              "session_id": null,
              "statement_id": null,
              "state": "waiting",
              "livy_statement_state": null,
              "queued_time": "2023-10-25T06:06:33.0856739Z",
              "session_start_time": null,
              "execution_start_time": null,
              "execution_finish_time": null,
              "spark_jobs": null,
              "parent_msg_id": "6af8a678-c17a-4a21-97f4-a3d3d4872150"
            },
            "text/plain": "StatementMeta(, , , Waiting, )"
          },
          "metadata": {}
        }
      ],
      "metadata": {
        "jupyter": {
          "source_hidden": false,
          "outputs_hidden": false
        },
        "nteract": {
          "transient": {
            "deleting": false
          }
        }
      },
      "source": [
        "df.printSchema()"
      ]
    },
    {
      "cell_type": "code",
      "execution_count": null,
      "outputs": [
        {
          "output_type": "display_data",
          "data": {
            "application/vnd.livy.statement-meta+json": {
              "spark_pool": null,
              "session_id": null,
              "statement_id": null,
              "state": "waiting",
              "livy_statement_state": null,
              "queued_time": "2023-10-25T06:06:33.2182685Z",
              "session_start_time": null,
              "execution_start_time": null,
              "execution_finish_time": null,
              "spark_jobs": null,
              "parent_msg_id": "b434513b-7444-4998-af6b-0613bd491b93"
            },
            "text/plain": "StatementMeta(, , , Waiting, )"
          },
          "metadata": {}
        }
      ],
      "metadata": {
        "jupyter": {
          "source_hidden": false,
          "outputs_hidden": false
        },
        "nteract": {
          "transient": {
            "deleting": false
          }
        }
      },
      "source": [
        "## Changing String type to Date type\r\n",
        "\r\n",
        "df = df.withColumn(\"ReleaseDate\",to_date(\"ReleaseDate\",'dd-MM-yyyy'))"
      ]
    },
    {
      "cell_type": "code",
      "execution_count": null,
      "outputs": [
        {
          "output_type": "display_data",
          "data": {
            "application/vnd.livy.statement-meta+json": {
              "spark_pool": null,
              "session_id": null,
              "statement_id": null,
              "state": "waiting",
              "livy_statement_state": null,
              "queued_time": "2023-10-25T06:06:33.3683476Z",
              "session_start_time": null,
              "execution_start_time": null,
              "execution_finish_time": null,
              "spark_jobs": null,
              "parent_msg_id": "68972ce9-b824-4a40-95ea-8c3ecf2038f0"
            },
            "text/plain": "StatementMeta(, , , Waiting, )"
          },
          "metadata": {}
        }
      ],
      "metadata": {
        "jupyter": {
          "source_hidden": false,
          "outputs_hidden": false
        },
        "nteract": {
          "transient": {
            "deleting": false
          }
        }
      },
      "source": [
        "## Changing String type to Date type\r\n",
        "\r\n",
        "df = df.withColumn(\"AddedDate\",to_date(\"ReleaseDate\",'dd-MM-yyyy'))"
      ]
    },
    {
      "cell_type": "code",
      "execution_count": null,
      "outputs": [
        {
          "output_type": "display_data",
          "data": {
            "application/vnd.livy.statement-meta+json": {
              "spark_pool": null,
              "session_id": null,
              "statement_id": null,
              "state": "waiting",
              "livy_statement_state": null,
              "queued_time": "2023-10-25T06:06:33.4962497Z",
              "session_start_time": null,
              "execution_start_time": null,
              "execution_finish_time": null,
              "spark_jobs": null,
              "parent_msg_id": "f1682651-6616-461b-9843-9f69fced67b2"
            },
            "text/plain": "StatementMeta(, , , Waiting, )"
          },
          "metadata": {}
        }
      ],
      "metadata": {
        "jupyter": {
          "source_hidden": false,
          "outputs_hidden": false
        },
        "nteract": {
          "transient": {
            "deleting": false
          }
        }
      },
      "source": [
        "df.printSchema()"
      ]
    },
    {
      "cell_type": "code",
      "execution_count": null,
      "outputs": [
        {
          "output_type": "display_data",
          "data": {
            "application/vnd.livy.statement-meta+json": {
              "spark_pool": null,
              "session_id": null,
              "statement_id": null,
              "state": "waiting",
              "livy_statement_state": null,
              "queued_time": "2023-10-25T06:06:33.6305201Z",
              "session_start_time": null,
              "execution_start_time": null,
              "execution_finish_time": null,
              "spark_jobs": null,
              "parent_msg_id": "c505eb65-0de1-43df-ba52-a315ee1d34fb"
            },
            "text/plain": "StatementMeta(, , , Waiting, )"
          },
          "metadata": {}
        }
      ],
      "metadata": {
        "jupyter": {
          "source_hidden": false,
          "outputs_hidden": false
        },
        "nteract": {
          "transient": {
            "deleting": false
          }
        }
      },
      "source": [
        "df = df.withColumnRenamed(\"IMDB Score\",\"IMDB_Score\")"
      ]
    },
    {
      "cell_type": "code",
      "execution_count": null,
      "outputs": [
        {
          "output_type": "display_data",
          "data": {
            "application/vnd.livy.statement-meta+json": {
              "spark_pool": null,
              "session_id": null,
              "statement_id": null,
              "state": "waiting",
              "livy_statement_state": null,
              "queued_time": "2023-10-25T06:06:33.8632855Z",
              "session_start_time": null,
              "execution_start_time": null,
              "execution_finish_time": null,
              "spark_jobs": null,
              "parent_msg_id": "58b03024-f15e-4801-a327-ae52c1531e81"
            },
            "text/plain": "StatementMeta(, , , Waiting, )"
          },
          "metadata": {}
        }
      ],
      "metadata": {
        "jupyter": {
          "source_hidden": false,
          "outputs_hidden": false
        },
        "nteract": {
          "transient": {
            "deleting": false
          }
        }
      },
      "source": [
        "df = df.withColumnRenamed(\"IMDB Category\",\"IMDB_Category\")"
      ]
    },
    {
      "cell_type": "code",
      "execution_count": null,
      "outputs": [
        {
          "output_type": "display_data",
          "data": {
            "application/vnd.livy.statement-meta+json": {
              "spark_pool": null,
              "session_id": null,
              "statement_id": null,
              "state": "waiting",
              "livy_statement_state": null,
              "queued_time": "2023-10-25T06:06:34.0950012Z",
              "session_start_time": null,
              "execution_start_time": null,
              "execution_finish_time": null,
              "spark_jobs": null,
              "parent_msg_id": "4be356b7-f7dd-4261-adcc-1a59dc0c9ee0"
            },
            "text/plain": "StatementMeta(, , , Waiting, )"
          },
          "metadata": {}
        }
      ],
      "metadata": {
        "jupyter": {
          "source_hidden": false,
          "outputs_hidden": false
        },
        "nteract": {
          "transient": {
            "deleting": false
          }
        },
        "collapsed": false
      },
      "source": [
        "display(df)"
      ]
    },
    {
      "cell_type": "code",
      "execution_count": null,
      "outputs": [
        {
          "output_type": "display_data",
          "data": {
            "application/vnd.livy.statement-meta+json": {
              "spark_pool": null,
              "session_id": null,
              "statement_id": null,
              "state": "waiting",
              "livy_statement_state": null,
              "queued_time": "2023-10-25T06:06:34.1704468Z",
              "session_start_time": null,
              "execution_start_time": null,
              "execution_finish_time": null,
              "spark_jobs": null,
              "parent_msg_id": "3f2b3b38-2714-4681-9d3a-b94960753fd3"
            },
            "text/plain": "StatementMeta(, , , Waiting, )"
          },
          "metadata": {}
        }
      ],
      "metadata": {
        "jupyter": {
          "source_hidden": false,
          "outputs_hidden": false
        },
        "nteract": {
          "transient": {
            "deleting": false
          }
        }
      },
      "source": [
        "destaccountName = \"ottadls011\"\r\n",
        "destcontainer = \"refined\"\r\n",
        "destinationFolder = \"data/\""
      ]
    },
    {
      "cell_type": "code",
      "execution_count": null,
      "outputs": [
        {
          "output_type": "display_data",
          "data": {
            "application/vnd.livy.statement-meta+json": {
              "spark_pool": null,
              "session_id": null,
              "statement_id": null,
              "state": "waiting",
              "livy_statement_state": null,
              "queued_time": "2023-10-25T06:06:34.2976907Z",
              "session_start_time": null,
              "execution_start_time": null,
              "execution_finish_time": null,
              "spark_jobs": null,
              "parent_msg_id": "0664a21d-5dbb-4bda-b5dd-742024963a8b"
            },
            "text/plain": "StatementMeta(, , , Waiting, )"
          },
          "metadata": {}
        }
      ],
      "metadata": {
        "jupyter": {
          "source_hidden": false,
          "outputs_hidden": false
        },
        "nteract": {
          "transient": {
            "deleting": false
          }
        }
      },
      "source": [
        "## Writing Data to ADLS\r\n",
        "destpath = f'abfss://{destcontainer}@{destaccountName}.dfs.core.windows.net/{destinationFolder}'\r\n",
        "\r\n",
        "\r\n",
        "df.write\\\r\n",
        "    .mode(\"overwrite\")\\\r\n",
        "    .format(\"parquet\")\\\r\n",
        "    .option(\"header\",\"true\")\\\r\n",
        "    .option(\"inferschema\",\"true\")\\\r\n",
        "    .save(destpath)"
      ]
    }
  ]
}